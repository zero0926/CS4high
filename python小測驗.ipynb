{
  "nbformat": 4,
  "nbformat_minor": 0,
  "metadata": {
    "colab": {
      "name": "Untitled1.ipynb",
      "provenance": [],
      "collapsed_sections": [],
      "include_colab_link": true
    },
    "kernelspec": {
      "name": "python2",
      "display_name": "Python 2"
    }
  },
  "cells": [
    {
      "cell_type": "markdown",
      "metadata": {
        "id": "view-in-github",
        "colab_type": "text"
      },
      "source": [
        "<a href=\"https://colab.research.google.com/github/zero0926/CS4high/blob/master/python%E5%B0%8F%E6%B8%AC%E9%A9%97.ipynb\" target=\"_parent\"><img src=\"https://colab.research.google.com/assets/colab-badge.svg\" alt=\"Open In Colab\"/></a>"
      ]
    },
    {
      "cell_type": "code",
      "metadata": {
        "id": "qG3cwBKHU1ao",
        "colab_type": "code",
        "colab": {
          "base_uri": "https://localhost:8080/",
          "height": 85
        },
        "outputId": "9619c785-a50f-415f-eeaa-9359cbf5e429"
      },
      "source": [
        "print(\"hello!\")\n",
        "print(3*2*(17-2.1))\n",
        "print(\"abc\"+\"def\")\n",
        "word = \"art\"\n",
        "print(word.replace(\"r\", \"n\"))"
      ],
      "execution_count": 1,
      "outputs": [
        {
          "output_type": "stream",
          "text": [
            "hello!\n",
            "89.4\n",
            "abcdef\n",
            "ant\n"
          ],
          "name": "stdout"
        }
      ]
    },
    {
      "cell_type": "code",
      "metadata": {
        "id": "RfNts93Ar4aB",
        "colab_type": "code",
        "colab": {
          "base_uri": "https://localhost:8080/",
          "height": 51
        },
        "outputId": "3d23a8a1-be00-46cd-8d0c-07a948390c67"
      },
      "source": [
        "a= 1\n",
        "b= 2\n",
        "c = a/b\n",
        "print(a, \"/\", b, \"=\", c) \n",
        "add = str(a)+\"/\"+str(b)+\"=\"+str(c)\n",
        "print(add)"
      ],
      "execution_count": 2,
      "outputs": [
        {
          "output_type": "stream",
          "text": [
            "(1, '/', 2, '=', 0)\n",
            "1/2=0\n"
          ],
          "name": "stdout"
        }
      ]
    },
    {
      "cell_type": "code",
      "metadata": {
        "id": "847RvZ88sn2v",
        "colab_type": "code",
        "colab": {
          "base_uri": "https://localhost:8080/",
          "height": 148
        },
        "outputId": "7005feaa-737c-4b0b-a02c-55120d50b0d4"
      },
      "source": [
        "input(\"Where do you live? \")\n",
        "print(\"I live in Boston. \")"
      ],
      "execution_count": 4,
      "outputs": [
        {
          "output_type": "stream",
          "text": [
            "Where do you live? 台南市\n"
          ],
          "name": "stdout"
        },
        {
          "output_type": "error",
          "ename": "SyntaxError",
          "evalue": "ignored",
          "traceback": [
            "\u001b[0;36m  File \u001b[0;32m\"<string>\"\u001b[0;36m, line \u001b[0;32m1\u001b[0m\n\u001b[0;31m    台南市\u001b[0m\n\u001b[0m    ^\u001b[0m\n\u001b[0;31mSyntaxError\u001b[0m\u001b[0;31m:\u001b[0m invalid syntax\n"
          ]
        }
      ]
    },
    {
      "cell_type": "code",
      "metadata": {
        "id": "y_RD4OkavVxR",
        "colab_type": "code",
        "colab": {
          "base_uri": "https://localhost:8080/",
          "height": 148
        },
        "outputId": "c17906bc-67dc-4688-d760-894f016a1ad1"
      },
      "source": [
        "user_place = input(\"Where do you live? \")\n",
        "text = user_place.capitalize()+ \"!\"\n",
        "print(text) \n",
        "print(\"I hear it's nice there!\")"
      ],
      "execution_count": 6,
      "outputs": [
        {
          "output_type": "stream",
          "text": [
            "Where do you live? 台南市\n"
          ],
          "name": "stdout"
        },
        {
          "output_type": "error",
          "ename": "SyntaxError",
          "evalue": "ignored",
          "traceback": [
            "\u001b[0;36m  File \u001b[0;32m\"<string>\"\u001b[0;36m, line \u001b[0;32m1\u001b[0m\n\u001b[0;31m    台南市\u001b[0m\n\u001b[0m    ^\u001b[0m\n\u001b[0;31mSyntaxError\u001b[0m\u001b[0;31m:\u001b[0m invalid syntax\n"
          ]
        }
      ]
    },
    {
      "cell_type": "code",
      "metadata": {
        "id": "pG8WWHLTveXH",
        "colab_type": "code",
        "colab": {
          "base_uri": "https://localhost:8080/",
          "height": 68
        },
        "outputId": "c54898c0-1b23-487f-a714-6b47d67f3bd9"
      },
      "source": [
        "num = int(input (\"Enter a number to find the square of: \"))\n",
        "user_input = input(\"Enter a integer to find the square of: \")\n",
        "num = int(user_input) \n",
        "print(num*num)"
      ],
      "execution_count": 8,
      "outputs": [
        {
          "output_type": "stream",
          "text": [
            "Enter a number to find the square of: 10\n",
            "Enter a integer to find the square of: 5\n",
            "25\n"
          ],
          "name": "stdout"
        }
      ]
    },
    {
      "cell_type": "code",
      "metadata": {
        "id": "_te7pi_6v6YQ",
        "colab_type": "code",
        "colab": {
          "base_uri": "https://localhost:8080/",
          "height": 68
        },
        "outputId": "68976a61-38d7-45f2-ea95-03489b8c3bdc"
      },
      "source": [
        "num1 = float(input(\"Enter a number: \"))\n",
        "num2 = float(input(\"Enter another number: \"))\n",
        "print(num1, \"*\", num2, \"=\", num1*num2)"
      ],
      "execution_count": 9,
      "outputs": [
        {
          "output_type": "stream",
          "text": [
            "Enter a number: 20\n",
            "Enter another number: 2\n",
            "(20.0, '*', 2.0, '=', 40.0)\n"
          ],
          "name": "stdout"
        }
      ]
    }
  ]
}